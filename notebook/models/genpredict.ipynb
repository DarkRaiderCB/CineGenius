{
 "cells": [
  {
   "cell_type": "markdown",
   "metadata": {},
   "source": [
    "# Data Loading and Preprocessing Functions"
   ]
  },
  {
   "cell_type": "code",
   "execution_count": 1,
   "metadata": {
    "colab": {
     "base_uri": "https://localhost:8080/"
    },
    "id": "PDch4ias9Hs5",
    "outputId": "23ad1f79-1e12-4a3d-c609-ad08e0e2fbc6"
   },
   "outputs": [
    {
     "name": "stderr",
     "output_type": "stream",
     "text": [
      "[nltk_data] Downloading package stopwords to\n",
      "[nltk_data]     C:\\Users\\Lenovo\\AppData\\Roaming\\nltk_data...\n",
      "[nltk_data]   Package stopwords is already up-to-date!\n",
      "[nltk_data] Downloading package punkt to\n",
      "[nltk_data]     C:\\Users\\Lenovo\\AppData\\Roaming\\nltk_data...\n",
      "[nltk_data]   Package punkt is already up-to-date!\n"
     ]
    },
    {
     "data": {
      "text/plain": [
       "True"
      ]
     },
     "execution_count": 1,
     "metadata": {},
     "output_type": "execute_result"
    }
   ],
   "source": [
    "import warnings\n",
    "warnings.filterwarnings('ignore')\n",
    "from time import time\n",
    "import pandas as pd\n",
    "import re\n",
    "import nltk\n",
    "from nltk.corpus import stopwords\n",
    "from nltk.tokenize import word_tokenize\n",
    "from nltk.stem import SnowballStemmer\n",
    "nltk.download('stopwords')\n",
    "nltk.download('punkt')"
   ]
  },
  {
   "cell_type": "markdown",
   "metadata": {},
   "source": [
    "## Data Cleaning and loading"
   ]
  },
  {
   "cell_type": "code",
   "execution_count": 2,
   "metadata": {
    "id": "jH5PrBy59zmL"
   },
   "outputs": [],
   "source": [
    "def cleaned(text):\n",
    "  \"\"\"\n",
    "  function for cleaning text and tokenizing\n",
    "  parameters: text (str)\n",
    "  return: cleaned text (str)\n",
    "  \"\"\"\n",
    "  text = re.sub(r'[^a-zA-Z\\s]', '', text)\n",
    "  text = text.lower().strip()\n",
    "  stop_words = set(stopwords.words('english'))\n",
    "  words = word_tokenize(text)\n",
    "  filtered_words = [word for word in words if word not in stop_words]\n",
    "  stemmer = SnowballStemmer('english')\n",
    "  filtered_words = [stemmer.stem(word) for word in filtered_words]\n",
    "  return ' '.join(filtered_words)"
   ]
  },
  {
   "cell_type": "code",
   "execution_count": 3,
   "metadata": {
    "id": "x6_q8-e8-DCt"
   },
   "outputs": [],
   "source": [
    "def load_preprocess(train_path, test_path, solution_path):\n",
    "  \"\"\"\n",
    "  function for loading and preprocessing data\n",
    "  parameters: train_path (str), test_path (str), solution_path (str)\n",
    "  return: train (pd.DataFrame), test (pd.DataFrame), solution (pd.DataFrame)\n",
    "  \"\"\"\n",
    "  try:\n",
    "    start = time()\n",
    "    train = pd.read_csv(train_path, delimiter=\":::\", engine=\"python\", names = ['id', 'title', 'genre', 'description'])\n",
    "    print(\"\\n\\nInitially (train data):\\n\")\n",
    "    print(train.info())\n",
    "    train['description'] = train['description'].apply(cleaned)\n",
    "    train = train.drop('id', axis=1)\n",
    "    train = train.drop_duplicates()\n",
    "    train = train.dropna()\n",
    "    train = train.reset_index(drop=True)\n",
    "    print(\"\\n\\nAfter cleaning (train data):\\n\")\n",
    "    print(train.info())\n",
    "\n",
    "    test = pd.read_csv(test_path, delimiter=\":::\", engine=\"python\", names = ['id', 'title', 'description'])\n",
    "    print(\"\\n\\nInitially (test data):\\n\")\n",
    "    print(test.info())\n",
    "    test['description'] = test['description'].apply(cleaned)\n",
    "    test = test.drop('id', axis=1)\n",
    "    test = test.drop_duplicates()\n",
    "    test = test.dropna()\n",
    "    test = test.reset_index(drop=True)\n",
    "    print(\"\\n\\nAfter cleaning (test data):\\n\")\n",
    "    print(test.info())\n",
    "\n",
    "    solution = pd.read_csv(solution_path, delimiter=\":::\", engine=\"python\", names = ['id', 'title', 'genre', 'description'])\n",
    "    print(\"\\n\\nInitially (solution data):\\n\")\n",
    "    print(solution.info())\n",
    "    solution = solution.drop_duplicates()\n",
    "    solution = solution.dropna()\n",
    "    solution = solution.reset_index(drop=True)\n",
    "    solution = solution.drop('id', axis=1)\n",
    "    solution = solution.drop('title', axis=1)\n",
    "    solution = solution.drop('description', axis=1)\n",
    "    print(\"\\n\\nAfter cleaning (solution data):\\n\")\n",
    "    print(solution.info())\n",
    "    \n",
    "    end = time()\n",
    "    print(f\"\\n\\n Execution time: {end - start}\\n\")\n",
    "\n",
    "    return train, test, solution\n",
    "  except FileNotFoundError:\n",
    "    print(\"The file was not found\")\n",
    "    return None, None, None\n",
    "  except Exception as e:\n",
    "    print(e)\n",
    "    return None, None, None"
   ]
  },
  {
   "cell_type": "markdown",
   "metadata": {},
   "source": [
    "## Encoding"
   ]
  },
  {
   "cell_type": "code",
   "execution_count": 4,
   "metadata": {
    "id": "MVI7VXgO-E8O"
   },
   "outputs": [],
   "source": [
    "from sklearn.preprocessing import LabelEncoder"
   ]
  },
  {
   "cell_type": "code",
   "execution_count": 5,
   "metadata": {
    "id": "1y7Qi8cG-HMl"
   },
   "outputs": [],
   "source": [
    "def encoder(train, test, solution):\n",
    "  \"\"\"\n",
    "  function for encoding data\n",
    "  parameters: train (pd.DataFrame), test (pd.DataFrame), solution (pd.DataFrame)\n",
    "  return: train (pd.DataFrame), test (pd.DataFrame), solution (pd.DataFrame)\n",
    "  \"\"\"\n",
    "  try:\n",
    "    le = LabelEncoder()\n",
    "    train['genre'] = le.fit_transform(train['genre'])\n",
    "    solution['genre'] = le.transform(solution['genre'])\n",
    "    print(\"Encoded Labels:\")\n",
    "    for label, value in zip(le.classes_, le.transform(le.classes_)):\n",
    "        print(f\"{label} : {value}\")\n",
    "    return train, test, solution\n",
    "  except Exception as e:\n",
    "    print(e)\n",
    "    return None"
   ]
  },
  {
   "cell_type": "markdown",
   "metadata": {},
   "source": [
    "## Vectorization"
   ]
  },
  {
   "cell_type": "code",
   "execution_count": 6,
   "metadata": {
    "id": "0Yiz_81L-LsX"
   },
   "outputs": [],
   "source": [
    "from sklearn.feature_extraction.text import TfidfVectorizer"
   ]
  },
  {
   "cell_type": "code",
   "execution_count": 7,
   "metadata": {
    "id": "-ZNXZCfe-OoQ"
   },
   "outputs": [],
   "source": [
    "def vectorizer(train, test):\n",
    "  \"\"\"\n",
    "  function for vectorizing data\n",
    "  parameters: train (pd.DataFrame), test (pd.DataFrame)\n",
    "  return: train_tfidf (scipy.sparse.csr_matrix), test_tfidf (scipy.sparse.csr_matrix)\n",
    "  \"\"\"\n",
    "  tfidf = TfidfVectorizer(max_features=5000)\n",
    "  train_tfidf = tfidf.fit_transform(train['description'])\n",
    "  test_tfidf = tfidf.transform(test['description'])\n",
    "  return train_tfidf, test_tfidf"
   ]
  },
  {
   "cell_type": "markdown",
   "metadata": {},
   "source": [
    "# Train-test split"
   ]
  },
  {
   "cell_type": "code",
   "execution_count": 8,
   "metadata": {
    "id": "7uawc4vmP9AL"
   },
   "outputs": [],
   "source": [
    "from sklearn.model_selection import train_test_split"
   ]
  },
  {
   "cell_type": "code",
   "execution_count": 9,
   "metadata": {
    "id": "BRc42ilfP82P"
   },
   "outputs": [],
   "source": [
    "def train_and_test_split(train, size):\n",
    "  \"\"\"\n",
    "  function for splitting data into train and test sets\n",
    "  parameters: train (pd.DataFrame), size (float)\n",
    "  return: X_train (pd.DataFrame), X_test (pd.DataFrame), y_train (pd.Series), y_test (pd.Series)\n",
    "  \"\"\"\n",
    "  X = train['description']\n",
    "  y = train['genre']\n",
    "  X_train, X_test, y_train, y_test = train_test_split(X, y, test_size=size, random_state=42)\n",
    "  train_df = pd.DataFrame({'description': X_train, 'genre': y_train})\n",
    "  test_df = pd.DataFrame({'description': X_test, 'genre': y_test})\n",
    "  return train_df, test_df"
   ]
  },
  {
   "cell_type": "markdown",
   "metadata": {},
   "source": [
    "# Visualization"
   ]
  },
  {
   "cell_type": "code",
   "execution_count": 10,
   "metadata": {
    "id": "8T75y_RGQDZU"
   },
   "outputs": [],
   "source": [
    "import matplotlib.pyplot as plt\n",
    "import seaborn as sns"
   ]
  },
  {
   "cell_type": "code",
   "execution_count": 11,
   "metadata": {
    "id": "a-nQJ0irQDWB"
   },
   "outputs": [],
   "source": [
    "def visualizer(df):\n",
    "  \"\"\"\n",
    "  function for visualizing data\n",
    "  parameters: df (pd.DataFrame)\n",
    "  return: None\n",
    "  \"\"\"\n",
    "  plt.figure(figsize=(10, 6))\n",
    "  sns.countplot(y='genre', data=df, order=df['genre'].value_counts().index, orient='h')\n",
    "\n",
    "  for idx, value in enumerate(df['genre'].value_counts()):\n",
    "      plt.text(value, idx, str(value))\n",
    "\n",
    "  plt.title('Genre Distribution')\n",
    "  plt.xlabel('Count')\n",
    "  plt.ylabel('Genre')\n",
    "  plt.show()"
   ]
  },
  {
   "cell_type": "markdown",
   "metadata": {},
   "source": [
    "# Sampling"
   ]
  },
  {
   "cell_type": "code",
   "execution_count": 12,
   "metadata": {
    "id": "qM0YbH7LQM9r"
   },
   "outputs": [],
   "source": [
    "import numpy as np\n",
    "from sklearn.utils import resample"
   ]
  },
  {
   "cell_type": "code",
   "execution_count": 13,
   "metadata": {
    "id": "_Y8cKMAlQDTk"
   },
   "outputs": [],
   "source": [
    "def custom_sampler(df, threshold=1000):\n",
    "    \"\"\"\n",
    "    Function for balancing data\n",
    "    Parameters:\n",
    "        mat (scipy.sparse.csr_matrix): The feature matrix.\n",
    "        df (pd.DataFrame): The DataFrame containing the data.\n",
    "        threshold (int): The threshold for sampling. Defaults to 1000.\n",
    "    Returns:\n",
    "        df_resampled (pd.DataFrame): The resampled DataFrame.\n",
    "    \"\"\"\n",
    "    class_counts = df['genre'].value_counts()\n",
    "\n",
    "    resampled_indices = []\n",
    "\n",
    "    for class_label, count in class_counts.items():\n",
    "        class_indices = np.where(df['genre'] == class_label)[0]\n",
    "        if count > threshold:\n",
    "            resampled_indices.append(resample(class_indices, n_samples=threshold, random_state=42))\n",
    "        else:\n",
    "            resampled_indices.append(resample(class_indices, n_samples=threshold, replace=True, random_state=42))\n",
    "\n",
    "    final_indices = np.concatenate(resampled_indices)\n",
    "\n",
    "    df_resampled = df.iloc[final_indices].reset_index(drop=True)\n",
    "\n",
    "    return df_resampled"
   ]
  },
  {
   "cell_type": "markdown",
   "metadata": {},
   "source": [
    "# Model Training and Saving"
   ]
  },
  {
   "cell_type": "code",
   "execution_count": 14,
   "metadata": {
    "id": "CyC9MCs8-QFT"
   },
   "outputs": [],
   "source": [
    "from sklearn.naive_bayes import MultinomialNB\n",
    "from sklearn.linear_model import LogisticRegression\n",
    "from sklearn.svm import SVC\n",
    "from sklearn.metrics import classification_report"
   ]
  },
  {
   "cell_type": "code",
   "execution_count": 15,
   "metadata": {
    "id": "W0whzbMM-RWP"
   },
   "outputs": [],
   "source": [
    "models = {\n",
    "    \"MultinomialNB\": MultinomialNB(),\n",
    "    \"LogisticRegression\": LogisticRegression(class_weight='balanced'),\n",
    "    \"SVC\": SVC(class_weight='balanced')\n",
    "}"
   ]
  },
  {
   "cell_type": "code",
   "execution_count": 16,
   "metadata": {},
   "outputs": [],
   "source": [
    "import joblib"
   ]
  },
  {
   "cell_type": "code",
   "execution_count": 17,
   "metadata": {},
   "outputs": [],
   "source": [
    "model_paths1 = {\n",
    "    'MultinomialNB': './models/mnb_model1.joblib',\n",
    "    'LogisticRegression': './models/lgr_model1.joblib',\n",
    "    'SVC': './models/svc_model1.joblib'\n",
    "}\n",
    "\n",
    "model_paths2 = {\n",
    "    'MultinomialNB': './models/mnb_model2.joblib',\n",
    "    'LogisticRegression': './models/lgr_model2.joblib',\n",
    "    'SVC': './models/svc_model2.joblib'\n",
    "}"
   ]
  },
  {
   "cell_type": "code",
   "execution_count": 18,
   "metadata": {
    "id": "Ft8W8o1z-TEC"
   },
   "outputs": [],
   "source": [
    "def train_eval(X_train, y_train, X_test, y_test, models, path):\n",
    "  \"\"\"\n",
    "  function for training, evaluating models and saving models\n",
    "  parameters: X_train (pd.DataFrame), y_train (pd.Series), X_test (pd.DataFrame), y_test (pd.Series), models (dict), path (str)\n",
    "  return: None\n",
    "  \"\"\"\n",
    "  for name, model in models.items():\n",
    "    start = time()\n",
    "    model.fit(X_train, y_train)\n",
    "    y_pred = model.predict(X_test)\n",
    "    print(f\"Model: {name}\")\n",
    "    print(classification_report(y_test, y_pred))\n",
    "    joblib.dump(model, path[name])\n",
    "    end = time()\n",
    "    print(f\"\\n\\n Execution time: {end - start}\\n\")\n",
    "    print(\"-\" * 50)"
   ]
  },
  {
   "cell_type": "markdown",
   "metadata": {},
   "source": [
    "# Loading and using saved models"
   ]
  },
  {
   "cell_type": "code",
   "execution_count": 19,
   "metadata": {},
   "outputs": [],
   "source": [
    "def load_and_predict(model_path, X_new):\n",
    "    \"\"\"\n",
    "    Function to load a saved model and make predictions.\n",
    "    Parameters:\n",
    "    - model_path (str): Path to the saved model file.\n",
    "    - X_new (pd.DataFrame): New data to make predictions on.\n",
    "    Returns:\n",
    "    - y_pred (np.ndarray): Predictions made by the loaded model.\n",
    "    \"\"\"\n",
    "    start = time()\n",
    "    model = joblib.load(model_path)\n",
    "    y_pred = model.predict(X_new)\n",
    "    end = time()\n",
    "    print(f\"\\n\\n Execution time: {end - start}\\n\")\n",
    "    \n",
    "    return y_pred"
   ]
  },
  {
   "cell_type": "markdown",
   "metadata": {},
   "source": [
    "# Function calls"
   ]
  },
  {
   "cell_type": "code",
   "execution_count": 20,
   "metadata": {
    "id": "mIeTW2iEAuPr"
   },
   "outputs": [],
   "source": [
    "train_path = \"train_data.txt\"\n",
    "test_path = \"test_data.txt\"\n",
    "solution_path = \"test_data_solution.txt\""
   ]
  },
  {
   "cell_type": "code",
   "execution_count": 21,
   "metadata": {
    "colab": {
     "base_uri": "https://localhost:8080/"
    },
    "id": "GT5K8h2sA5s-",
    "outputId": "e38dd8bd-2b9c-484e-ea7f-6883597d2d7a"
   },
   "outputs": [
    {
     "name": "stdout",
     "output_type": "stream",
     "text": [
      "\n",
      "\n",
      "Initially (train data):\n",
      "\n",
      "<class 'pandas.core.frame.DataFrame'>\n",
      "RangeIndex: 54214 entries, 0 to 54213\n",
      "Data columns (total 4 columns):\n",
      " #   Column       Non-Null Count  Dtype \n",
      "---  ------       --------------  ----- \n",
      " 0   id           54214 non-null  int64 \n",
      " 1   title        54214 non-null  object\n",
      " 2   genre        54214 non-null  object\n",
      " 3   description  54214 non-null  object\n",
      "dtypes: int64(1), object(3)\n",
      "memory usage: 1.7+ MB\n",
      "None\n",
      "\n",
      "\n",
      "After cleaning (train data):\n",
      "\n",
      "<class 'pandas.core.frame.DataFrame'>\n",
      "RangeIndex: 54214 entries, 0 to 54213\n",
      "Data columns (total 3 columns):\n",
      " #   Column       Non-Null Count  Dtype \n",
      "---  ------       --------------  ----- \n",
      " 0   title        54214 non-null  object\n",
      " 1   genre        54214 non-null  object\n",
      " 2   description  54214 non-null  object\n",
      "dtypes: object(3)\n",
      "memory usage: 1.2+ MB\n",
      "None\n",
      "\n",
      "\n",
      "Initially (test data):\n",
      "\n",
      "<class 'pandas.core.frame.DataFrame'>\n",
      "RangeIndex: 54200 entries, 0 to 54199\n",
      "Data columns (total 3 columns):\n",
      " #   Column       Non-Null Count  Dtype \n",
      "---  ------       --------------  ----- \n",
      " 0   id           54200 non-null  int64 \n",
      " 1   title        54200 non-null  object\n",
      " 2   description  54200 non-null  object\n",
      "dtypes: int64(1), object(2)\n",
      "memory usage: 1.2+ MB\n",
      "None\n",
      "\n",
      "\n",
      "After cleaning (test data):\n",
      "\n",
      "<class 'pandas.core.frame.DataFrame'>\n",
      "RangeIndex: 54200 entries, 0 to 54199\n",
      "Data columns (total 2 columns):\n",
      " #   Column       Non-Null Count  Dtype \n",
      "---  ------       --------------  ----- \n",
      " 0   title        54200 non-null  object\n",
      " 1   description  54200 non-null  object\n",
      "dtypes: object(2)\n",
      "memory usage: 847.0+ KB\n",
      "None\n",
      "\n",
      "\n",
      "Initially (solution data):\n",
      "\n",
      "<class 'pandas.core.frame.DataFrame'>\n",
      "RangeIndex: 54200 entries, 0 to 54199\n",
      "Data columns (total 4 columns):\n",
      " #   Column       Non-Null Count  Dtype \n",
      "---  ------       --------------  ----- \n",
      " 0   id           54200 non-null  int64 \n",
      " 1   title        54200 non-null  object\n",
      " 2   genre        54200 non-null  object\n",
      " 3   description  54200 non-null  object\n",
      "dtypes: int64(1), object(3)\n",
      "memory usage: 1.7+ MB\n",
      "None\n",
      "\n",
      "\n",
      "After cleaning (solution data):\n",
      "\n",
      "<class 'pandas.core.frame.DataFrame'>\n",
      "RangeIndex: 54200 entries, 0 to 54199\n",
      "Data columns (total 1 columns):\n",
      " #   Column  Non-Null Count  Dtype \n",
      "---  ------  --------------  ----- \n",
      " 0   genre   54200 non-null  object\n",
      "dtypes: object(1)\n",
      "memory usage: 423.6+ KB\n",
      "None\n",
      "\n",
      "\n",
      " Execution time: 115.53319692611694\n",
      "\n"
     ]
    }
   ],
   "source": [
    "train, test, test_solution = load_preprocess(train_path, test_path, solution_path)"
   ]
  },
  {
   "cell_type": "code",
   "execution_count": 22,
   "metadata": {
    "id": "WoRBFYjdBCxd"
   },
   "outputs": [],
   "source": [
    "train = train.sample(frac=1, random_state=42).reset_index(drop=True)"
   ]
  },
  {
   "cell_type": "code",
   "execution_count": 23,
   "metadata": {
    "id": "DgWyeTZcBLo1"
   },
   "outputs": [],
   "source": [
    "learn_df, validate_df = train_and_test_split(train, 0.2)"
   ]
  },
  {
   "cell_type": "code",
   "execution_count": 24,
   "metadata": {
    "colab": {
     "base_uri": "https://localhost:8080/"
    },
    "id": "86we-WUlB802",
    "outputId": "ec7e42bc-5beb-4f9f-d583-b5617b7a281a"
   },
   "outputs": [
    {
     "name": "stdout",
     "output_type": "stream",
     "text": [
      "Encoded Labels:\n",
      " action  : 0\n",
      " adult  : 1\n",
      " adventure  : 2\n",
      " animation  : 3\n",
      " biography  : 4\n",
      " comedy  : 5\n",
      " crime  : 6\n",
      " documentary  : 7\n",
      " drama  : 8\n",
      " family  : 9\n",
      " fantasy  : 10\n",
      " game-show  : 11\n",
      " history  : 12\n",
      " horror  : 13\n",
      " music  : 14\n",
      " musical  : 15\n",
      " mystery  : 16\n",
      " news  : 17\n",
      " reality-tv  : 18\n",
      " romance  : 19\n",
      " sci-fi  : 20\n",
      " short  : 21\n",
      " sport  : 22\n",
      " talk-show  : 23\n",
      " thriller  : 24\n",
      " war  : 25\n",
      " western  : 26\n"
     ]
    }
   ],
   "source": [
    "learn_df, _, validate_df = encoder(learn_df, [], validate_df)"
   ]
  },
  {
   "cell_type": "code",
   "execution_count": 25,
   "metadata": {
    "colab": {
     "base_uri": "https://localhost:8080/",
     "height": 564
    },
    "id": "u-GIxZg9PRRa",
    "outputId": "5d48b949-2961-4f02-bef7-df51fcb06229"
   },
   "outputs": [
    {
     "data": {
      "image/png": "[encoded data removed]",
      "text/plain": [
       "<Figure size 1000x600 with 1 Axes>"
      ]
     },
     "metadata": {},
     "output_type": "display_data"
    }
   ],
   "source": [
    "visualizer(learn_df)"
   ]
  },
  {
   "cell_type": "code",
   "execution_count": 26,
   "metadata": {
    "id": "necjuDazLX5r"
   },
   "outputs": [],
   "source": [
    "df = custom_sampler(learn_df, 1000)"
   ]
  },
  {
   "cell_type": "code",
   "execution_count": 27,
   "metadata": {
    "colab": {
     "base_uri": "https://localhost:8080/",
     "height": 564
    },
    "id": "OCka_JzBLfXd",
    "outputId": "e0260bd3-8f70-4c46-8433-d6aebe8e389d"
   },
   "outputs": [
    {
     "data": {
      "image/png": "[encoded data removed]",
      "text/plain": [
       "<Figure size 1000x600 with 1 Axes>"
      ]
     },
     "metadata": {},
     "output_type": "display_data"
    }
   ],
   "source": [
    "visualizer(df)"
   ]
  },
  {
   "cell_type": "code",
   "execution_count": 28,
   "metadata": {
    "id": "Vo9nk2T-Vvv3"
   },
   "outputs": [],
   "source": [
    "learn_tfidf, validate_tfidf = vectorizer(df, validate_df)"
   ]
  },
  {
   "cell_type": "code",
   "execution_count": 29,
   "metadata": {
    "colab": {
     "base_uri": "https://localhost:8080/"
    },
    "id": "v_qLlbwhORIR",
    "outputId": "39da36eb-cf13-4790-e48f-d43a3ea44abd"
   },
   "outputs": [
    {
     "name": "stdout",
     "output_type": "stream",
     "text": [
      "Model: MultinomialNB\n",
      "              precision    recall  f1-score   support\n",
      "\n",
      "           0       0.38      0.39      0.38       276\n",
      "           1       0.29      0.63      0.40       100\n",
      "           2       0.21      0.21      0.21       151\n",
      "           3       0.22      0.26      0.24       114\n",
      "           4       0.03      0.18      0.06        51\n",
      "           5       0.60      0.27      0.37      1516\n",
      "           6       0.11      0.37      0.17       108\n",
      "           7       0.79      0.41      0.54      2560\n",
      "           8       0.63      0.34      0.44      2758\n",
      "           9       0.12      0.23      0.16       159\n",
      "          10       0.11      0.32      0.16        62\n",
      "          11       0.32      0.78      0.46        27\n",
      "          12       0.03      0.24      0.06        42\n",
      "          13       0.51      0.68      0.58       452\n",
      "          14       0.31      0.84      0.45       152\n",
      "          15       0.08      0.27      0.12        49\n",
      "          16       0.08      0.19      0.11        68\n",
      "          17       0.07      0.21      0.10        34\n",
      "          18       0.23      0.43      0.30       187\n",
      "          19       0.07      0.52      0.12       135\n",
      "          20       0.25      0.59      0.35       114\n",
      "          21       0.44      0.21      0.28      1018\n",
      "          22       0.32      0.83      0.46        87\n",
      "          23       0.17      0.69      0.27        75\n",
      "          24       0.20      0.29      0.24       329\n",
      "          25       0.11      0.87      0.19        23\n",
      "          26       0.51      0.86      0.64       196\n",
      "\n",
      "    accuracy                           0.37     10843\n",
      "   macro avg       0.27      0.45      0.29     10843\n",
      "weighted avg       0.55      0.37      0.41     10843\n",
      "\n",
      "\n",
      "\n",
      " Execution time: 0.05098676681518555\n",
      "\n",
      "--------------------------------------------------\n",
      "Model: LogisticRegression\n",
      "              precision    recall  f1-score   support\n",
      "\n",
      "           0       0.32      0.38      0.35       276\n",
      "           1       0.26      0.62      0.37       100\n",
      "           2       0.20      0.32      0.25       151\n",
      "           3       0.18      0.29      0.22       114\n",
      "           4       0.04      0.25      0.07        51\n",
      "           5       0.55      0.36      0.44      1516\n",
      "           6       0.12      0.35      0.17       108\n",
      "           7       0.79      0.44      0.56      2560\n",
      "           8       0.66      0.32      0.43      2758\n",
      "           9       0.13      0.28      0.18       159\n",
      "          10       0.07      0.21      0.10        62\n",
      "          11       0.43      0.81      0.56        27\n",
      "          12       0.04      0.26      0.07        42\n",
      "          13       0.58      0.66      0.61       452\n",
      "          14       0.40      0.72      0.52       152\n",
      "          15       0.08      0.35      0.13        49\n",
      "          16       0.11      0.31      0.16        68\n",
      "          17       0.10      0.32      0.15        34\n",
      "          18       0.25      0.48      0.33       187\n",
      "          19       0.10      0.47      0.16       135\n",
      "          20       0.27      0.57      0.37       114\n",
      "          21       0.37      0.29      0.32      1018\n",
      "          22       0.30      0.77      0.43        87\n",
      "          23       0.23      0.61      0.33        75\n",
      "          24       0.24      0.32      0.27       329\n",
      "          25       0.12      0.70      0.20        23\n",
      "          26       0.65      0.83      0.73       196\n",
      "\n",
      "    accuracy                           0.40     10843\n",
      "   macro avg       0.28      0.46      0.32     10843\n",
      "weighted avg       0.55      0.40      0.43     10843\n",
      "\n",
      "\n",
      "\n",
      " Execution time: 3.121640205383301\n",
      "\n",
      "--------------------------------------------------\n",
      "Model: SVC\n",
      "              precision    recall  f1-score   support\n",
      "\n",
      "           0       0.30      0.45      0.36       276\n",
      "           1       0.39      0.49      0.44       100\n",
      "           2       0.30      0.32      0.31       151\n",
      "           3       0.32      0.21      0.26       114\n",
      "           4       0.00      0.00      0.00        51\n",
      "           5       0.48      0.52      0.50      1516\n",
      "           6       0.19      0.20      0.19       108\n",
      "           7       0.74      0.64      0.68      2560\n",
      "           8       0.61      0.49      0.54      2758\n",
      "           9       0.25      0.24      0.24       159\n",
      "          10       0.22      0.11      0.15        62\n",
      "          11       0.74      0.63      0.68        27\n",
      "          12       0.13      0.07      0.09        42\n",
      "          13       0.62      0.68      0.65       452\n",
      "          14       0.43      0.76      0.55       152\n",
      "          15       0.20      0.20      0.20        49\n",
      "          16       0.29      0.07      0.12        68\n",
      "          17       0.27      0.09      0.13        34\n",
      "          18       0.33      0.45      0.39       187\n",
      "          19       0.12      0.27      0.17       135\n",
      "          20       0.37      0.49      0.42       114\n",
      "          21       0.32      0.38      0.35      1018\n",
      "          22       0.38      0.63      0.47        87\n",
      "          23       0.36      0.48      0.41        75\n",
      "          24       0.25      0.32      0.28       329\n",
      "          25       0.35      0.39      0.37        23\n",
      "          26       0.80      0.81      0.80       196\n",
      "\n",
      "    accuracy                           0.50     10843\n",
      "   macro avg       0.36      0.39      0.36     10843\n",
      "weighted avg       0.53      0.50      0.51     10843\n",
      "\n",
      "\n",
      "\n",
      " Execution time: 228.27687168121338\n",
      "\n",
      "--------------------------------------------------\n"
     ]
    }
   ],
   "source": [
    "train_eval(learn_tfidf, df['genre'], validate_tfidf, validate_df['genre'], models, model_paths1)"
   ]
  },
  {
   "cell_type": "markdown",
   "metadata": {},
   "source": [
    "SVC takes significant time in training, hence sampling all classes to 8000 for the final models for the entire training data file"
   ]
  },
  {
   "cell_type": "code",
   "execution_count": 30,
   "metadata": {
    "id": "h1MvLm5lq7Yy"
   },
   "outputs": [],
   "source": [
    "train = train.sample(frac=1, random_state=42).reset_index(drop=True)"
   ]
  },
  {
   "cell_type": "code",
   "execution_count": 31,
   "metadata": {
    "colab": {
     "base_uri": "https://localhost:8080/"
    },
    "id": "mrrsa86qrR7q",
    "outputId": "b84adcc2-cd11-4bb0-dcca-04139edf612b"
   },
   "outputs": [
    {
     "name": "stdout",
     "output_type": "stream",
     "text": [
      "Encoded Labels:\n",
      " action  : 0\n",
      " adult  : 1\n",
      " adventure  : 2\n",
      " animation  : 3\n",
      " biography  : 4\n",
      " comedy  : 5\n",
      " crime  : 6\n",
      " documentary  : 7\n",
      " drama  : 8\n",
      " family  : 9\n",
      " fantasy  : 10\n",
      " game-show  : 11\n",
      " history  : 12\n",
      " horror  : 13\n",
      " music  : 14\n",
      " musical  : 15\n",
      " mystery  : 16\n",
      " news  : 17\n",
      " reality-tv  : 18\n",
      " romance  : 19\n",
      " sci-fi  : 20\n",
      " short  : 21\n",
      " sport  : 22\n",
      " talk-show  : 23\n",
      " thriller  : 24\n",
      " war  : 25\n",
      " western  : 26\n"
     ]
    }
   ],
   "source": [
    "train_, test_, solution_ = encoder(train, test, test_solution)"
   ]
  },
  {
   "cell_type": "code",
   "execution_count": 32,
   "metadata": {
    "colab": {
     "base_uri": "https://localhost:8080/",
     "height": 564
    },
    "id": "-aoCd5UlrldK",
    "outputId": "6c4bc19d-8f71-4cc1-f389-e1b644e5df1c"
   },
   "outputs": [
    {
     "data": {
      "image/png": "[encoded data removed]",
      "text/plain": [
       "<Figure size 1000x600 with 1 Axes>"
      ]
     },
     "metadata": {},
     "output_type": "display_data"
    }
   ],
   "source": [
    "visualizer(train_)"
   ]
  },
  {
   "cell_type": "code",
   "execution_count": 33,
   "metadata": {
    "id": "_G4MrucDr93k"
   },
   "outputs": [],
   "source": [
    "df2 = custom_sampler(train_, 8000)"
   ]
  },
  {
   "cell_type": "code",
   "execution_count": 34,
   "metadata": {
    "colab": {
     "base_uri": "https://localhost:8080/",
     "height": 564
    },
    "id": "raplKeigsJxX",
    "outputId": "1a3e43cc-3235-4ddd-d311-99bf41710716"
   },
   "outputs": [
    {
     "data": {
      "image/png": "[encoded data removed]",
      "text/plain": [
       "<Figure size 1000x600 with 1 Axes>"
      ]
     },
     "metadata": {},
     "output_type": "display_data"
    }
   ],
   "source": [
    "visualizer(df2)"
   ]
  },
  {
   "cell_type": "code",
   "execution_count": 35,
   "metadata": {
    "id": "oo58dqscsWsC"
   },
   "outputs": [],
   "source": [
    "train_tfidf2, test_tfidf2 = vectorizer(df2, test_)"
   ]
  },
  {
   "cell_type": "markdown",
   "metadata": {},
   "source": [
    "Training and saving final models"
   ]
  },
  {
   "cell_type": "code",
   "execution_count": 36,
   "metadata": {},
   "outputs": [
    {
     "name": "stdout",
     "output_type": "stream",
     "text": [
      "Model: MultinomialNB\n",
      "\n",
      "\n",
      " Execution time: 0.1477656364440918\n",
      "\n",
      "--------------------------------------------------\n",
      "Model: LogisticRegression\n",
      "\n",
      "\n",
      " Execution time: 34.346805572509766\n",
      "\n",
      "--------------------------------------------------\n",
      "Model: SVC\n",
      "\n",
      "\n",
      " Execution time: 4010.784491300583\n",
      "\n",
      "--------------------------------------------------\n"
     ]
    }
   ],
   "source": [
    "for name, model in models.items():\n",
    "    start = time()\n",
    "    model.fit(train_tfidf2, df2['genre'])\n",
    "    print(f\"Model: {name}\")\n",
    "    joblib.dump(model, model_paths2[name])\n",
    "    end = time()\n",
    "    print(f\"\\n\\n Execution time: {end - start}\\n\")\n",
    "    print(\"-\" * 50)"
   ]
  },
  {
   "cell_type": "markdown",
   "metadata": {},
   "source": [
    "Loading the final trained models"
   ]
  },
  {
   "cell_type": "markdown",
   "metadata": {},
   "source": [
    "###### SVC"
   ]
  },
  {
   "cell_type": "code",
   "execution_count": 37,
   "metadata": {},
   "outputs": [
    {
     "name": "stdout",
     "output_type": "stream",
     "text": [
      "\n",
      "\n",
      " Execution time: 1508.3273577690125\n",
      "\n"
     ]
    }
   ],
   "source": [
    "path = './models/svc_model2.joblib'\n",
    "prediction = load_and_predict(path, test_tfidf2)"
   ]
  },
  {
   "cell_type": "code",
   "execution_count": 41,
   "metadata": {},
   "outputs": [
    {
     "name": "stdout",
     "output_type": "stream",
     "text": [
      "              precision    recall  f1-score   support\n",
      "\n",
      "           0       0.39      0.45      0.42      1314\n",
      "           1       0.57      0.43      0.49       590\n",
      "           2       0.48      0.28      0.35       775\n",
      "           3       0.39      0.15      0.21       498\n",
      "           4       0.00      0.00      0.00       264\n",
      "           5       0.51      0.63      0.56      7446\n",
      "           6       0.24      0.10      0.14       505\n",
      "           7       0.72      0.77      0.75     13096\n",
      "           8       0.61      0.63      0.62     13612\n",
      "           9       0.38      0.17      0.23       783\n",
      "          10       0.36      0.11      0.17       322\n",
      "          11       0.85      0.59      0.70       193\n",
      "          12       0.38      0.01      0.02       243\n",
      "          13       0.61      0.65      0.63      2204\n",
      "          14       0.53      0.62      0.57       731\n",
      "          15       0.31      0.07      0.12       276\n",
      "          16       0.27      0.03      0.06       318\n",
      "          17       0.53      0.10      0.18       181\n",
      "          18       0.44      0.33      0.38       883\n",
      "          19       0.31      0.13      0.19       672\n",
      "          20       0.52      0.40      0.45       646\n",
      "          21       0.39      0.45      0.42      5072\n",
      "          22       0.55      0.42      0.48       431\n",
      "          23       0.56      0.32      0.41       391\n",
      "          24       0.33      0.27      0.30      1590\n",
      "          25       0.63      0.18      0.28       132\n",
      "          26       0.88      0.81      0.84      1032\n",
      "\n",
      "    accuracy                           0.58     54200\n",
      "   macro avg       0.47      0.34      0.37     54200\n",
      "weighted avg       0.57      0.58      0.56     54200\n",
      "\n"
     ]
    }
   ],
   "source": [
    "print(classification_report(solution_['genre'], prediction))"
   ]
  },
  {
   "cell_type": "markdown",
   "metadata": {},
   "source": [
    "###### Multinomial NB"
   ]
  },
  {
   "cell_type": "code",
   "execution_count": 42,
   "metadata": {},
   "outputs": [
    {
     "name": "stdout",
     "output_type": "stream",
     "text": [
      "\n",
      "\n",
      " Execution time: 0.044303178787231445\n",
      "\n"
     ]
    }
   ],
   "source": [
    "path2 = './models/mnb_model2.joblib'\n",
    "prediction2 = load_and_predict(path2, test_tfidf2)"
   ]
  },
  {
   "cell_type": "code",
   "execution_count": 43,
   "metadata": {},
   "outputs": [
    {
     "name": "stdout",
     "output_type": "stream",
     "text": [
      "              precision    recall  f1-score   support\n",
      "\n",
      "           0       0.35      0.46      0.40      1314\n",
      "           1       0.37      0.61      0.46       590\n",
      "           2       0.20      0.23      0.21       775\n",
      "           3       0.18      0.27      0.22       498\n",
      "           4       0.04      0.16      0.07       264\n",
      "           5       0.59      0.41      0.48      7446\n",
      "           6       0.12      0.31      0.17       505\n",
      "           7       0.76      0.53      0.62     13096\n",
      "           8       0.68      0.41      0.51     13612\n",
      "           9       0.18      0.26      0.21       783\n",
      "          10       0.12      0.28      0.17       322\n",
      "          11       0.64      0.69      0.67       193\n",
      "          12       0.06      0.24      0.10       243\n",
      "          13       0.54      0.66      0.59      2204\n",
      "          14       0.30      0.75      0.42       731\n",
      "          15       0.10      0.18      0.13       276\n",
      "          16       0.08      0.14      0.10       318\n",
      "          17       0.14      0.24      0.17       181\n",
      "          18       0.26      0.49      0.34       883\n",
      "          19       0.11      0.46      0.17       672\n",
      "          20       0.28      0.57      0.38       646\n",
      "          21       0.39      0.32      0.35      5072\n",
      "          22       0.34      0.74      0.46       431\n",
      "          23       0.19      0.49      0.28       391\n",
      "          24       0.22      0.33      0.27      1590\n",
      "          25       0.16      0.58      0.25       132\n",
      "          26       0.67      0.90      0.77      1032\n",
      "\n",
      "    accuracy                           0.45     54200\n",
      "   macro avg       0.30      0.43      0.33     54200\n",
      "weighted avg       0.55      0.45      0.48     54200\n",
      "\n"
     ]
    }
   ],
   "source": [
    "print(classification_report(solution_['genre'], prediction2))"
   ]
  },
  {
   "cell_type": "markdown",
   "metadata": {},
   "source": [
    "###### Logistic Regression"
   ]
  },
  {
   "cell_type": "code",
   "execution_count": 44,
   "metadata": {
    "colab": {
     "base_uri": "https://localhost:8080/"
    },
    "id": "pc415xVgtFqn",
    "outputId": "804ddbbc-c882-44dc-b64b-55e5cdf1f7a3"
   },
   "outputs": [
    {
     "name": "stdout",
     "output_type": "stream",
     "text": [
      "\n",
      "\n",
      " Execution time: 0.04548358917236328\n",
      "\n"
     ]
    }
   ],
   "source": [
    "path3 = './models/lgr_model2.joblib'\n",
    "prediction3 = load_and_predict(path3, test_tfidf2)"
   ]
  },
  {
   "cell_type": "code",
   "execution_count": 45,
   "metadata": {},
   "outputs": [
    {
     "name": "stdout",
     "output_type": "stream",
     "text": [
      "              precision    recall  f1-score   support\n",
      "\n",
      "           0       0.32      0.48      0.38      1314\n",
      "           1       0.36      0.60      0.45       590\n",
      "           2       0.20      0.35      0.25       775\n",
      "           3       0.15      0.28      0.20       498\n",
      "           4       0.04      0.12      0.06       264\n",
      "           5       0.58      0.45      0.51      7446\n",
      "           6       0.12      0.28      0.17       505\n",
      "           7       0.80      0.56      0.66     13096\n",
      "           8       0.70      0.39      0.50     13612\n",
      "           9       0.14      0.30      0.19       783\n",
      "          10       0.11      0.24      0.15       322\n",
      "          11       0.65      0.68      0.66       193\n",
      "          12       0.07      0.22      0.11       243\n",
      "          13       0.56      0.63      0.59      2204\n",
      "          14       0.39      0.68      0.50       731\n",
      "          15       0.12      0.27      0.17       276\n",
      "          16       0.07      0.14      0.10       318\n",
      "          17       0.15      0.27      0.20       181\n",
      "          18       0.24      0.47      0.32       883\n",
      "          19       0.12      0.41      0.19       672\n",
      "          20       0.30      0.49      0.37       646\n",
      "          21       0.38      0.41      0.40      5072\n",
      "          22       0.36      0.62      0.46       431\n",
      "          23       0.26      0.44      0.33       391\n",
      "          24       0.22      0.32      0.26      1590\n",
      "          25       0.18      0.49      0.27       132\n",
      "          26       0.76      0.87      0.81      1032\n",
      "\n",
      "    accuracy                           0.46     54200\n",
      "   macro avg       0.31      0.43      0.34     54200\n",
      "weighted avg       0.57      0.46      0.49     54200\n",
      "\n"
     ]
    }
   ],
   "source": [
    "print(classification_report(solution_['genre'], prediction3))"
   ]
  },
  {
   "cell_type": "markdown",
   "metadata": {},
   "source": [
    "##### Finally, it can be seen that, overall, SVC gives better results compared to the rest"
   ]
  },
  {
   "cell_type": "markdown",
   "metadata": {},
   "source": [
    "### Custom Test"
   ]
  },
  {
   "cell_type": "code",
   "execution_count": 47,
   "metadata": {},
   "outputs": [
    {
     "data": {
      "text/plain": [
       "['./models/vectorizer.joblib']"
      ]
     },
     "execution_count": 47,
     "metadata": {},
     "output_type": "execute_result"
    }
   ],
   "source": [
    "vectorizer = TfidfVectorizer(max_features=5000)\n",
    "vectorizer.fit(df2['description'])\n",
    "joblib.dump(vectorizer, './models/vectorizer.joblib')"
   ]
  },
  {
   "cell_type": "code",
   "execution_count": 48,
   "metadata": {},
   "outputs": [],
   "source": [
    "vec = joblib.load('./models/vectorizer.joblib')"
   ]
  },
  {
   "cell_type": "code",
   "execution_count": 74,
   "metadata": {},
   "outputs": [],
   "source": [
    "ctest = '''In a small seaside town, Clara, an artist, and Alex, who owns a cozy bookshop, meet unexpectedly. \n",
    "As they face their own challenges, they find a strong connection that grows with every sunset and heartfelt talk. \n",
    "Set against the beautiful ocean backdrop, \"Whispers of Love \" tells a story of lasting strength of love and the \n",
    "joy of finding your true partner when you least expect it.\n",
    "'''\n",
    "ctest = cleaned(ctest)"
   ]
  },
  {
   "cell_type": "code",
   "execution_count": 75,
   "metadata": {},
   "outputs": [],
   "source": [
    "ctest = pd.Series([ctest])"
   ]
  },
  {
   "cell_type": "code",
   "execution_count": 76,
   "metadata": {},
   "outputs": [],
   "source": [
    "ctest = vec.transform(ctest)"
   ]
  },
  {
   "cell_type": "code",
   "execution_count": 77,
   "metadata": {},
   "outputs": [],
   "source": [
    "encoded_labels = {\n",
    "    0: \"action\",\n",
    "    1: \"adult\",\n",
    "    2: \"adventure\",\n",
    "    3: \"animation\",\n",
    "    4: \"biography\",\n",
    "    5: \"comedy\",\n",
    "    6: \"crime\",\n",
    "    7: \"documentary\",\n",
    "    8: \"drama\",\n",
    "    9: \"family\",\n",
    "    10: \"fantasy\",\n",
    "    11: \"game-show\",\n",
    "    12: \"history\",\n",
    "    13: \"horror\",\n",
    "    14: \"music\",\n",
    "    15: \"musical\",\n",
    "    16: \"mystery\",\n",
    "    17: \"news\",\n",
    "    18: \"reality-tv\",\n",
    "    19: \"romance\",\n",
    "    20: \"sci-fi\",\n",
    "    21: \"short\",\n",
    "    22: \"sport\",\n",
    "    23: \"talk-show\",\n",
    "    24: \"thriller\",\n",
    "    25: \"war\",\n",
    "    26: \"western\"\n",
    "}"
   ]
  },
  {
   "cell_type": "code",
   "execution_count": 78,
   "metadata": {},
   "outputs": [],
   "source": [
    "def get_genre(encoded_value):\n",
    "    return encoded_labels.get(encoded_value, \"Genre\")\n",
    "def prediction(model_path, test):\n",
    "    model = joblib.load(model_path)\n",
    "    res = model.predict(test)\n",
    "    genre = get_genre(res[0])\n",
    "    return genre"
   ]
  },
  {
   "cell_type": "code",
   "execution_count": 79,
   "metadata": {},
   "outputs": [],
   "source": [
    "result = prediction('./models/svc_model2.joblib', ctest)"
   ]
  },
  {
   "cell_type": "code",
   "execution_count": 80,
   "metadata": {},
   "outputs": [
    {
     "name": "stdout",
     "output_type": "stream",
     "text": [
      "romance\n"
     ]
    }
   ],
   "source": [
    "print(result)"
   ]
  },
  {
   "cell_type": "code",
   "execution_count": 86,
   "metadata": {},
   "outputs": [],
   "source": [
    "ctest = '''In a world where danger prowls in every corner,\n",
    "relentless agent Jake Hunter must race against the clock to crush a merciless terrorist plot. \n",
    "With bone-crushing stunts, high-speed pursuits, and explosive clashes,\n",
    "\"Shadow Fury\" is an unrelenting adrenaline rush that grips you from the first shot to the final blow. \n",
    "Follow Jake as he battles savage adversaries and unravels a web of deceit that threatens to obliterate everything he holds dear.\n",
    "Brutal, \"Shadow Fury\" delivers relentless intensity and raw, gut-wrenching suspense in every frame.\n",
    "'''"
   ]
  },
  {
   "cell_type": "code",
   "execution_count": 87,
   "metadata": {},
   "outputs": [],
   "source": [
    "ctest = cleaned(ctest)"
   ]
  },
  {
   "cell_type": "code",
   "execution_count": 88,
   "metadata": {},
   "outputs": [],
   "source": [
    "ctest = pd.Series([ctest])"
   ]
  },
  {
   "cell_type": "code",
   "execution_count": 89,
   "metadata": {},
   "outputs": [],
   "source": [
    "ctest = vec.transform(ctest)"
   ]
  },
  {
   "cell_type": "code",
   "execution_count": 90,
   "metadata": {},
   "outputs": [
    {
     "name": "stdout",
     "output_type": "stream",
     "text": [
      "action\n"
     ]
    }
   ],
   "source": [
    "result = prediction('./models/svc_model2.joblib', ctest)\n",
    "print(result)"
   ]
  },
  {
   "cell_type": "code",
   "execution_count": null,
   "metadata": {},
   "outputs": [],
   "source": []
  }
 ],
 "metadata": {
  "colab": {
   "provenance": []
  },
  "kernelspec": {
   "display_name": "Python 3 (ipykernel)",
   "language": "python",
   "name": "python3"
  },
  "language_info": {
   "codemirror_mode": {
    "name": "ipython",
    "version": 3
   },
   "file_extension": ".py",
   "mimetype": "text/x-python",
   "name": "python",
   "nbconvert_exporter": "python",
   "pygments_lexer": "ipython3",
   "version": "3.12.3"
  }
 },
 "nbformat": 4,
 "nbformat_minor": 4
}
